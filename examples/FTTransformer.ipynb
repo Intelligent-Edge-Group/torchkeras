{
 "cells": [
  {
   "cell_type": "markdown",
   "id": "b928f74a-de0b-4cd0-a922-751da6e0172a",
   "metadata": {},
   "source": [
    "# FTTransformer，一个很能打的模型"
   ]
  },
  {
   "cell_type": "markdown",
   "id": "af2d39f1-b095-45ba-9f88-feb86fa2e77a",
   "metadata": {},
   "source": [
    "FTTransformer是一个可以用于结构化(tabular)数据的分类和回归任务的模型。\n",
    "\n",
    "FT 即 Feature Tokenizer的意思，把结构化数据中的离散特征和连续特征都像单词一样编码成一个向量。\n",
    "\n",
    "从而可以像对text数据那样 应用 Transformer对 Tabular数据进行特征抽取。\n",
    "\n",
    "值得注意的是，它对Transformer作了一些微妙的改动以适应 Tabular数据。\n",
    "\n",
    "例如：去除第一个Transformer输入的LayerNorm层，仿照BERT的设计增加了output token(CLS token) 与features token 一起进行进入Transformer参与注意力计算。\n",
    "\n",
    "参考: https://paperswithcode.com/method/ft-transformer\n",
    "\n",
    "本范例我们使用Covertype数据集，它的目标是预测植被覆盖类型，是一个七分类问题。\n",
    "\n",
    "公众号**算法美食屋**后台回复关键词：torchkeras，获取本文所用Covertype数据集。\n",
    "\n"
   ]
  },
  {
   "cell_type": "code",
   "execution_count": 1,
   "id": "767cffd7-baad-48e9-842a-7b40e6138698",
   "metadata": {},
   "outputs": [],
   "source": [
    "import sys\n",
    "sys.path.insert(0,\"..\")\n"
   ]
  },
  {
   "cell_type": "markdown",
   "id": "bd249df9-6108-4765-9ac9-206d8ec26b9e",
   "metadata": {},
   "source": [
    "## 一，准备数据"
   ]
  },
  {
   "cell_type": "code",
   "execution_count": 2,
   "id": "c67cb971-0ece-4e1f-807a-2c757df57f03",
   "metadata": {},
   "outputs": [
    {
     "name": "stdout",
     "output_type": "stream",
     "text": [
      "dfdata.shape =  (581012, 13)\n",
      "target_col =  Cover_Type\n",
      "cat_cols =  ['Wilderness_Area', 'Soil_Type']\n",
      "num_cols =  ['Elevation', 'Aspect', 'Slope', '...']\n",
      "len(dftrain) =  371847\n",
      "len(dfval) =  92962\n",
      "len(dftest) =  116203\n"
     ]
    }
   ],
   "source": [
    "import pandas as pd \n",
    "from sklearn.model_selection import train_test_split\n",
    "\n",
    "dfdata = pd.read_parquet('covertype.parquet')\n",
    "\n",
    "cat_cols = ['Wilderness_Area', 'Soil_Type']\n",
    "num_cols = ['Elevation','Aspect','Slope','Horizontal_Distance_To_Hydrology',\n",
    " 'Vertical_Distance_To_Hydrology','Horizontal_Distance_To_Roadways',\n",
    " 'Hillshade_9am','Hillshade_Noon','Hillshade_3pm','Horizontal_Distance_To_Fire_Points']\n",
    "target_col = 'Cover_Type'\n",
    "\n",
    "print(\"dfdata.shape = \",dfdata.shape)\n",
    "print(\"target_col = \", target_col)\n",
    "print('cat_cols = ', cat_cols)  \n",
    "print('num_cols = ', num_cols[:3]+['...'])\n",
    "\n",
    "dftmp, dftest_raw = train_test_split(dfdata, random_state=42, test_size=0.2)\n",
    "dftrain_raw, dfval_raw = train_test_split(dftmp, random_state=42, test_size=0.2)\n",
    "\n",
    "print(\"len(dftrain) = \",len(dftrain_raw))\n",
    "print(\"len(dfval) = \",len(dfval_raw))\n",
    "print(\"len(dftest) = \",len(dftest_raw))\n"
   ]
  },
  {
   "cell_type": "code",
   "execution_count": 3,
   "id": "9ff566b1-bd5b-46db-9fbe-7c4600a4763a",
   "metadata": {},
   "outputs": [],
   "source": [
    "from torchkeras.tabular import TabularPreprocessor\n",
    "from sklearn.preprocessing import OrdinalEncoder\n",
    "\n",
    "#特征工程\n",
    "pipe = TabularPreprocessor(cat_features = cat_cols, \n",
    "                           embedding_features=cat_cols)\n",
    "encoder = OrdinalEncoder()\n",
    "\n",
    "dftrain = pipe.fit_transform(dftrain_raw.drop(target_col,axis=1))\n",
    "dftrain[target_col] = encoder.fit_transform(\n",
    "    dftrain_raw[target_col].values.reshape(-1,1)).astype(np.int32)\n",
    "\n",
    "dfval = pipe.transform(dfval_raw.drop(target_col,axis=1))\n",
    "dfval[target_col] = encoder.transform(\n",
    "    dfval_raw[target_col].values.reshape(-1,1)).astype(np.int32)\n",
    "\n",
    "dftest = pipe.transform(dftest_raw.drop(target_col,axis=1))\n",
    "dftest[target_col] = encoder.transform(\n",
    "    dftest_raw[target_col].values.reshape(-1,1)).astype(np.int32)\n"
   ]
  },
  {
   "cell_type": "code",
   "execution_count": 4,
   "id": "758ca287-97f1-4eac-99a5-59b4e7f80a79",
   "metadata": {},
   "outputs": [],
   "source": [
    "from torchkeras.tabular import TabularDataset\n",
    "from torch.utils.data import Dataset,DataLoader \n",
    "\n",
    "def get_dataset(dfdata):\n",
    "    return TabularDataset(\n",
    "                data = dfdata,\n",
    "                task = 'classification',\n",
    "                target = [target_col],\n",
    "                continuous_cols = pipe.numeric_features,\n",
    "                categorical_cols = pipe.embedding_features\n",
    "        )\n",
    "\n",
    "def get_dataloader(ds,batch_size=1024,num_workers=0,shuffle=False):\n",
    "    dl = DataLoader(\n",
    "            ds,\n",
    "            batch_size=batch_size,\n",
    "            shuffle=shuffle,\n",
    "            num_workers=num_workers,\n",
    "            pin_memory=False,\n",
    "        )\n",
    "    return dl \n",
    "    \n",
    "ds_train = get_dataset(dftrain)\n",
    "ds_val = get_dataset(dfval)\n",
    "ds_test = get_dataset(dftest)\n",
    "\n",
    "dl_train = get_dataloader(ds_train,shuffle=True)\n",
    "dl_val = get_dataloader(ds_val,shuffle=False)\n",
    "dl_test = get_dataloader(ds_test,shuffle=False)\n"
   ]
  },
  {
   "cell_type": "code",
   "execution_count": 5,
   "id": "936d45c3-f4d6-4912-98e1-a48558cebea5",
   "metadata": {},
   "outputs": [],
   "source": [
    "for batch in dl_train:\n",
    "    break"
   ]
  },
  {
   "cell_type": "markdown",
   "id": "c41209e2-6f81-4569-89d9-11a60240451b",
   "metadata": {},
   "source": [
    "## 二，定义模型"
   ]
  },
  {
   "cell_type": "code",
   "execution_count": 6,
   "id": "b37e00a5-ddae-42bf-8589-656785ec4075",
   "metadata": {},
   "outputs": [
    {
     "name": "stdout",
     "output_type": "stream",
     "text": [
      "32\n",
      "7\n"
     ]
    }
   ],
   "source": [
    "from torchkeras.tabular.models import FTTransformerConfig,FTTransformerModel\n",
    "model_config = FTTransformerConfig(task='classification',\n",
    "                    num_attn_blocks=4)\n",
    "config = model_config.merge_dataset_config(ds_train)\n",
    "net = FTTransformerModel(config = config)\n",
    "\n",
    "#初始化参数\n",
    "net.reset_weights()\n",
    "net.data_aware_initialization(dl_train)\n",
    "\n",
    "print(net.backbone.output_dim)\n",
    "print(net.hparams.output_dim)\n"
   ]
  },
  {
   "cell_type": "code",
   "execution_count": 7,
   "id": "325551c3-ecc3-4974-b55c-1f7a6ef7b04e",
   "metadata": {},
   "outputs": [
    {
     "name": "stdout",
     "output_type": "stream",
     "text": [
      "tensor(1.5671, grad_fn=<AddBackward0>)\n"
     ]
    }
   ],
   "source": [
    "output = net.forward(batch)\n",
    "loss = net.compute_loss(output,batch['target'])\n",
    "print(loss)"
   ]
  },
  {
   "cell_type": "markdown",
   "id": "8b658b65-a647-43ad-9e15-e137eba09762",
   "metadata": {},
   "source": [
    "## 三，训练模型"
   ]
  },
  {
   "cell_type": "code",
   "execution_count": 8,
   "id": "5d3faa5a-63e3-459d-ad72-7e5b7343a23e",
   "metadata": {},
   "outputs": [],
   "source": [
    "from torchkeras import KerasModel \n",
    "from torchkeras.tabular import StepRunner \n",
    "KerasModel.StepRunner = StepRunner \n"
   ]
  },
  {
   "cell_type": "code",
   "execution_count": 9,
   "id": "d7865136-2bc9-4071-8a77-9ea71e3a5d23",
   "metadata": {},
   "outputs": [],
   "source": [
    "import torch \n",
    "from torch import nn \n",
    "class Accuracy(nn.Module):\n",
    "    def __init__(self):\n",
    "        super().__init__()\n",
    "\n",
    "        self.correct = nn.Parameter(torch.tensor(0.0),requires_grad=False)\n",
    "        self.total = nn.Parameter(torch.tensor(0.0),requires_grad=False)\n",
    "\n",
    "    def forward(self, preds: torch.Tensor, targets: torch.Tensor):\n",
    "        preds = preds.argmax(dim=-1)\n",
    "        targets = targets.reshape(-1)\n",
    "        m = (preds == targets).sum()\n",
    "        n = targets.shape[0] \n",
    "        self.correct += m \n",
    "        self.total += n\n",
    "        \n",
    "        return m/n\n",
    "\n",
    "    def compute(self):\n",
    "        return self.correct.float() / self.total \n",
    "    \n",
    "    def reset(self):\n",
    "        self.correct -= self.correct\n",
    "        self.total -= self.total\n",
    "        "
   ]
  },
  {
   "cell_type": "code",
   "execution_count": 10,
   "id": "905c6c2e-3ca7-44f8-b3da-77dd8f30c039",
   "metadata": {},
   "outputs": [],
   "source": [
    "keras_model = KerasModel(net,\n",
    "                   loss_fn=None,\n",
    "                   optimizer = torch.optim.AdamW(net.parameters(),lr = 1e-3),\n",
    "                   metrics_dict = {\"acc\":Accuracy()}\n",
    "                   )"
   ]
  },
  {
   "cell_type": "code",
   "execution_count": 11,
   "id": "e9bd796f-ade0-4c7a-9409-77efe5b3b2c1",
   "metadata": {},
   "outputs": [
    {
     "name": "stdout",
     "output_type": "stream",
     "text": [
      "\u001b[0;31m<<<<<< 🚀 mps is used >>>>>>\u001b[0m\n"
     ]
    },
    {
     "data": {
      "image/png": "[encoded data removed]",
      "text/plain": [
       "<Figure size 600x400 with 1 Axes>"
      ]
     },
     "metadata": {},
     "output_type": "display_data"
    },
    {
     "data": {
      "text/html": [
       "\n",
       "<style>\n",
       "    /* background: */\n",
       "    progress::-webkit-progress-bar {background-color: #CDCDCD; width: 100%;}\n",
       "    progress {background-color: #CDCDCD;}\n",
       "\n",
       "    /* value: */\n",
       "    progress::-webkit-progress-value {background-color: #00BFFF  !important;}\n",
       "    progress::-moz-progress-bar {background-color: #00BFFF  !important;}\n",
       "    progress {color: #00BFFF ;}\n",
       "\n",
       "    /* optional */\n",
       "    .progress-bar-interrupted, .progress-bar-interrupted::-webkit-progress-bar {\n",
       "        background: #000000;\n",
       "    }\n",
       "</style>\n"
      ],
      "text/plain": [
       "<IPython.core.display.HTML object>"
      ]
     },
     "metadata": {},
     "output_type": "display_data"
    },
    {
     "data": {
      "text/html": [
       "\n",
       "    <div>\n",
       "      <progress value='20' class='' max='20' style='width:300px; height:20px; vertical-align: middle;'></progress>\n",
       "      100% [20/20] [55:40]\n",
       "      <br>\n",
       "      ████████████████████100.00% [91/91] [val_loss=0.2047, val_acc=0.9163]\n",
       "    </div>\n",
       "    "
      ],
      "text/plain": [
       "<IPython.core.display.HTML object>"
      ]
     },
     "metadata": {},
     "output_type": "display_data"
    },
    {
     "data": {
      "text/html": [
       "<div>\n",
       "<style scoped>\n",
       "    .dataframe tbody tr th:only-of-type {\n",
       "        vertical-align: middle;\n",
       "    }\n",
       "\n",
       "    .dataframe tbody tr th {\n",
       "        vertical-align: top;\n",
       "    }\n",
       "\n",
       "    .dataframe thead th {\n",
       "        text-align: right;\n",
       "    }\n",
       "</style>\n",
       "<table border=\"1\" class=\"dataframe\">\n",
       "  <thead>\n",
       "    <tr style=\"text-align: right;\">\n",
       "      <th></th>\n",
       "      <th>epoch</th>\n",
       "      <th>train_loss</th>\n",
       "      <th>train_acc</th>\n",
       "      <th>lr</th>\n",
       "      <th>val_loss</th>\n",
       "      <th>val_acc</th>\n",
       "    </tr>\n",
       "  </thead>\n",
       "  <tbody>\n",
       "    <tr>\n",
       "      <th>0</th>\n",
       "      <td>1</td>\n",
       "      <td>0.646063</td>\n",
       "      <td>0.730349</td>\n",
       "      <td>0.001</td>\n",
       "      <td>0.520606</td>\n",
       "      <td>0.778210</td>\n",
       "    </tr>\n",
       "    <tr>\n",
       "      <th>1</th>\n",
       "      <td>2</td>\n",
       "      <td>0.492869</td>\n",
       "      <td>0.790771</td>\n",
       "      <td>0.001</td>\n",
       "      <td>0.415346</td>\n",
       "      <td>0.826822</td>\n",
       "    </tr>\n",
       "    <tr>\n",
       "      <th>2</th>\n",
       "      <td>3</td>\n",
       "      <td>0.426245</td>\n",
       "      <td>0.820709</td>\n",
       "      <td>0.001</td>\n",
       "      <td>0.367135</td>\n",
       "      <td>0.846841</td>\n",
       "    </tr>\n",
       "    <tr>\n",
       "      <th>3</th>\n",
       "      <td>4</td>\n",
       "      <td>0.389387</td>\n",
       "      <td>0.837019</td>\n",
       "      <td>0.001</td>\n",
       "      <td>0.330409</td>\n",
       "      <td>0.862922</td>\n",
       "    </tr>\n",
       "    <tr>\n",
       "      <th>4</th>\n",
       "      <td>5</td>\n",
       "      <td>0.366055</td>\n",
       "      <td>0.847599</td>\n",
       "      <td>0.001</td>\n",
       "      <td>0.309168</td>\n",
       "      <td>0.873411</td>\n",
       "    </tr>\n",
       "    <tr>\n",
       "      <th>5</th>\n",
       "      <td>6</td>\n",
       "      <td>0.347035</td>\n",
       "      <td>0.856325</td>\n",
       "      <td>0.001</td>\n",
       "      <td>0.290317</td>\n",
       "      <td>0.879811</td>\n",
       "    </tr>\n",
       "    <tr>\n",
       "      <th>6</th>\n",
       "      <td>7</td>\n",
       "      <td>0.333104</td>\n",
       "      <td>0.862554</td>\n",
       "      <td>0.001</td>\n",
       "      <td>0.271118</td>\n",
       "      <td>0.888987</td>\n",
       "    </tr>\n",
       "    <tr>\n",
       "      <th>7</th>\n",
       "      <td>8</td>\n",
       "      <td>0.320778</td>\n",
       "      <td>0.867696</td>\n",
       "      <td>0.001</td>\n",
       "      <td>0.266828</td>\n",
       "      <td>0.891257</td>\n",
       "    </tr>\n",
       "    <tr>\n",
       "      <th>8</th>\n",
       "      <td>9</td>\n",
       "      <td>0.311666</td>\n",
       "      <td>0.871584</td>\n",
       "      <td>0.001</td>\n",
       "      <td>0.252370</td>\n",
       "      <td>0.896356</td>\n",
       "    </tr>\n",
       "    <tr>\n",
       "      <th>9</th>\n",
       "      <td>10</td>\n",
       "      <td>0.305942</td>\n",
       "      <td>0.873744</td>\n",
       "      <td>0.001</td>\n",
       "      <td>0.245870</td>\n",
       "      <td>0.899335</td>\n",
       "    </tr>\n",
       "    <tr>\n",
       "      <th>10</th>\n",
       "      <td>11</td>\n",
       "      <td>0.296580</td>\n",
       "      <td>0.877622</td>\n",
       "      <td>0.001</td>\n",
       "      <td>0.241184</td>\n",
       "      <td>0.899701</td>\n",
       "    </tr>\n",
       "    <tr>\n",
       "      <th>11</th>\n",
       "      <td>12</td>\n",
       "      <td>0.290327</td>\n",
       "      <td>0.880513</td>\n",
       "      <td>0.001</td>\n",
       "      <td>0.234649</td>\n",
       "      <td>0.904058</td>\n",
       "    </tr>\n",
       "    <tr>\n",
       "      <th>12</th>\n",
       "      <td>13</td>\n",
       "      <td>0.282803</td>\n",
       "      <td>0.883417</td>\n",
       "      <td>0.001</td>\n",
       "      <td>0.236328</td>\n",
       "      <td>0.903444</td>\n",
       "    </tr>\n",
       "    <tr>\n",
       "      <th>13</th>\n",
       "      <td>14</td>\n",
       "      <td>0.279362</td>\n",
       "      <td>0.885437</td>\n",
       "      <td>0.001</td>\n",
       "      <td>0.223306</td>\n",
       "      <td>0.907823</td>\n",
       "    </tr>\n",
       "    <tr>\n",
       "      <th>14</th>\n",
       "      <td>15</td>\n",
       "      <td>0.274229</td>\n",
       "      <td>0.887204</td>\n",
       "      <td>0.001</td>\n",
       "      <td>0.226862</td>\n",
       "      <td>0.906144</td>\n",
       "    </tr>\n",
       "    <tr>\n",
       "      <th>15</th>\n",
       "      <td>16</td>\n",
       "      <td>0.271174</td>\n",
       "      <td>0.888640</td>\n",
       "      <td>0.001</td>\n",
       "      <td>0.215124</td>\n",
       "      <td>0.910759</td>\n",
       "    </tr>\n",
       "    <tr>\n",
       "      <th>16</th>\n",
       "      <td>17</td>\n",
       "      <td>0.268209</td>\n",
       "      <td>0.889761</td>\n",
       "      <td>0.001</td>\n",
       "      <td>0.214791</td>\n",
       "      <td>0.911286</td>\n",
       "    </tr>\n",
       "    <tr>\n",
       "      <th>17</th>\n",
       "      <td>18</td>\n",
       "      <td>0.264578</td>\n",
       "      <td>0.891420</td>\n",
       "      <td>0.001</td>\n",
       "      <td>0.216351</td>\n",
       "      <td>0.911017</td>\n",
       "    </tr>\n",
       "    <tr>\n",
       "      <th>18</th>\n",
       "      <td>19</td>\n",
       "      <td>0.260607</td>\n",
       "      <td>0.893029</td>\n",
       "      <td>0.001</td>\n",
       "      <td>0.207558</td>\n",
       "      <td>0.914417</td>\n",
       "    </tr>\n",
       "    <tr>\n",
       "      <th>19</th>\n",
       "      <td>20</td>\n",
       "      <td>0.257632</td>\n",
       "      <td>0.893881</td>\n",
       "      <td>0.001</td>\n",
       "      <td>0.204731</td>\n",
       "      <td>0.916288</td>\n",
       "    </tr>\n",
       "  </tbody>\n",
       "</table>\n",
       "</div>"
      ],
      "text/plain": [
       "    epoch  train_loss  train_acc     lr  val_loss   val_acc\n",
       "0       1    0.646063   0.730349  0.001  0.520606  0.778210\n",
       "1       2    0.492869   0.790771  0.001  0.415346  0.826822\n",
       "2       3    0.426245   0.820709  0.001  0.367135  0.846841\n",
       "3       4    0.389387   0.837019  0.001  0.330409  0.862922\n",
       "4       5    0.366055   0.847599  0.001  0.309168  0.873411\n",
       "5       6    0.347035   0.856325  0.001  0.290317  0.879811\n",
       "6       7    0.333104   0.862554  0.001  0.271118  0.888987\n",
       "7       8    0.320778   0.867696  0.001  0.266828  0.891257\n",
       "8       9    0.311666   0.871584  0.001  0.252370  0.896356\n",
       "9      10    0.305942   0.873744  0.001  0.245870  0.899335\n",
       "10     11    0.296580   0.877622  0.001  0.241184  0.899701\n",
       "11     12    0.290327   0.880513  0.001  0.234649  0.904058\n",
       "12     13    0.282803   0.883417  0.001  0.236328  0.903444\n",
       "13     14    0.279362   0.885437  0.001  0.223306  0.907823\n",
       "14     15    0.274229   0.887204  0.001  0.226862  0.906144\n",
       "15     16    0.271174   0.888640  0.001  0.215124  0.910759\n",
       "16     17    0.268209   0.889761  0.001  0.214791  0.911286\n",
       "17     18    0.264578   0.891420  0.001  0.216351  0.911017\n",
       "18     19    0.260607   0.893029  0.001  0.207558  0.914417\n",
       "19     20    0.257632   0.893881  0.001  0.204731  0.916288"
      ]
     },
     "execution_count": 11,
     "metadata": {},
     "output_type": "execute_result"
    }
   ],
   "source": [
    "keras_model.fit(\n",
    "    train_data = dl_train,\n",
    "    val_data= dl_val,\n",
    "    ckpt_path='checkpoint',\n",
    "    epochs=20,\n",
    "    patience=10,\n",
    "    monitor=\"val_acc\", \n",
    "    mode=\"max\",\n",
    "    plot = True,\n",
    "    wandb = False\n",
    ")"
   ]
  },
  {
   "cell_type": "markdown",
   "id": "b27b5609-41d4-4791-9b58-e0b22d3dd3c4",
   "metadata": {},
   "source": [
    "## 四，评估模型"
   ]
  },
  {
   "cell_type": "code",
   "execution_count": 12,
   "id": "b6ede557-4783-4589-86f6-78e3f5b58552",
   "metadata": {},
   "outputs": [
    {
     "name": "stdout",
     "output_type": "stream",
     "text": [
      "100%|██████████████████████████████| 364/364 [00:50<00:00,  7.22it/s, val_acc=0.924, val_loss=0.187]\n"
     ]
    },
    {
     "data": {
      "text/plain": [
       "{'val_loss': 0.18733960275466627, 'val_acc': 0.9243963360786438}"
      ]
     },
     "execution_count": 12,
     "metadata": {},
     "output_type": "execute_result"
    }
   ],
   "source": [
    "keras_model.evaluate(dl_train)"
   ]
  },
  {
   "cell_type": "code",
   "execution_count": 13,
   "id": "bcb7bf47-5077-4ee4-b56f-fb344a841f68",
   "metadata": {},
   "outputs": [
    {
     "name": "stdout",
     "output_type": "stream",
     "text": [
      "100%|████████████████████████████████| 91/91 [00:12<00:00,  7.22it/s, val_acc=0.916, val_loss=0.205]\n"
     ]
    },
    {
     "data": {
      "text/plain": [
       "{'val_loss': 0.20473114589413444, 'val_acc': 0.9162883758544922}"
      ]
     },
     "execution_count": 13,
     "metadata": {},
     "output_type": "execute_result"
    }
   ],
   "source": [
    "keras_model.evaluate(dl_val)"
   ]
  },
  {
   "cell_type": "code",
   "execution_count": 14,
   "id": "d72eec01-2e24-41b0-8271-bcad31eaee79",
   "metadata": {},
   "outputs": [
    {
     "name": "stdout",
     "output_type": "stream",
     "text": [
      "100%|██████████████████████████████| 114/114 [00:16<00:00,  7.05it/s, val_acc=0.918, val_loss=0.202]\n"
     ]
    },
    {
     "data": {
      "text/plain": [
       "{'val_loss': 0.20151271671056747, 'val_acc': 0.917790412902832}"
      ]
     },
     "execution_count": 14,
     "metadata": {},
     "output_type": "execute_result"
    }
   ],
   "source": [
    "keras_model.evaluate(dl_test)"
   ]
  },
  {
   "cell_type": "code",
   "execution_count": null,
   "id": "35916579-d507-43ee-951b-e36051c78f6a",
   "metadata": {},
   "outputs": [],
   "source": []
  },
  {
   "cell_type": "markdown",
   "id": "1c7fa01f-d47c-4ff5-b0ca-aa6cf986f478",
   "metadata": {},
   "source": [
    "## 五，使用模型"
   ]
  },
  {
   "cell_type": "code",
   "execution_count": 15,
   "id": "0553d8f7-6e83-4fa0-a0be-2330eb571338",
   "metadata": {},
   "outputs": [
    {
     "name": "stderr",
     "output_type": "stream",
     "text": [
      "100%|██████████| 114/114 [00:26<00:00,  4.32it/s]\n"
     ]
    }
   ],
   "source": [
    "from tqdm import tqdm \n",
    "net = net.cpu()\n",
    "net.eval()\n",
    "preds = []\n",
    "with torch.no_grad():\n",
    "    for batch in tqdm(dl_test):\n",
    "        preds.append(net.predict(batch))\n",
    "    "
   ]
  },
  {
   "cell_type": "code",
   "execution_count": 16,
   "id": "034fddeb-4b87-48a3-a18f-70d4c1360b56",
   "metadata": {},
   "outputs": [],
   "source": [
    "yhat_list = [yd.argmax(dim=-1).tolist() for yd in preds]\n",
    "yhat = []\n",
    "for yd in yhat_list:\n",
    "    yhat.extend(yd)\n",
    "yhat = encoder.inverse_transform(np.array(yhat).reshape(-1,1))"
   ]
  },
  {
   "cell_type": "code",
   "execution_count": 17,
   "id": "145e7ab4-c4b9-4c6a-8e9b-40d1a724853b",
   "metadata": {},
   "outputs": [],
   "source": [
    "dftest_raw = dftest_raw.rename(columns = {target_col: 'y'})\n",
    "dftest_raw['yhat'] = yhat"
   ]
  },
  {
   "cell_type": "code",
   "execution_count": 18,
   "id": "4891d9fe-5631-4591-a11e-9740d1bf18f7",
   "metadata": {},
   "outputs": [
    {
     "name": "stdout",
     "output_type": "stream",
     "text": [
      "              precision    recall  f1-score   support\n",
      "\n",
      "           1       0.92      0.91      0.92     42557\n",
      "           2       0.93      0.93      0.93     56500\n",
      "           3       0.92      0.90      0.91      7121\n",
      "           4       0.81      0.87      0.84       526\n",
      "           5       0.79      0.78      0.79      1995\n",
      "           6       0.85      0.84      0.84      3489\n",
      "           7       0.90      0.93      0.92      4015\n",
      "\n",
      "    accuracy                           0.92    116203\n",
      "   macro avg       0.87      0.88      0.88    116203\n",
      "weighted avg       0.92      0.92      0.92    116203\n",
      "\n"
     ]
    }
   ],
   "source": [
    "from sklearn.metrics import classification_report\n",
    "print(classification_report(y_true = dftest_raw['y'],y_pred = dftest_raw['yhat']))"
   ]
  },
  {
   "cell_type": "code",
   "execution_count": 21,
   "id": "11753367-7cf6-4cf0-ae0a-9999000e1348",
   "metadata": {},
   "outputs": [
    {
     "data": {
      "image/png": "[encoded data removed]",
      "text/plain": [
       "<Figure size 1000x700 with 1 Axes>"
      ]
     },
     "metadata": {},
     "output_type": "display_data"
    }
   ],
   "source": [
    "import numpy as np\n",
    "import pandas as pd\n",
    "import matplotlib.pyplot as plt\n",
    "import seaborn as sns\n",
    "from sklearn.metrics import confusion_matrix\n",
    "\n",
    "\n",
    "# 计算混淆矩阵\n",
    "cm = confusion_matrix(dftest_raw['y'], dftest_raw['yhat'])\n",
    "\n",
    "# 将混淆矩阵转换为DataFrame\n",
    "df_cm = pd.DataFrame(cm, index=['Actual {}'.format(i) for i in range(cm.shape[0])],\n",
    "                     columns=['Predicted {}'.format(i) for i in range(cm.shape[1])])\n",
    "\n",
    "# 使用seaborn绘制混淆矩阵\n",
    "plt.figure(figsize=(10,7))\n",
    "sns.heatmap(df_cm, annot=True, fmt='d', cmap='Blues', cbar=False)\n",
    "plt.title('Confusion Matrix')\n",
    "plt.xlabel('Predicted labels')\n",
    "plt.ylabel('True labels')\n",
    "plt.show()"
   ]
  },
  {
   "cell_type": "markdown",
   "id": "560113b5-8828-4678-80e0-05078e4201d6",
   "metadata": {},
   "source": [
    "## 六，保存模型"
   ]
  },
  {
   "cell_type": "markdown",
   "id": "add0bf6e-75b5-4891-b180-1a553f8ff092",
   "metadata": {},
   "source": [
    "最佳模型权重已经保存在ckpt_path = 'checkpoint'位置了。"
   ]
  },
  {
   "cell_type": "code",
   "execution_count": 22,
   "id": "32483e2e-a61f-4f06-bad6-0687e489f2bd",
   "metadata": {},
   "outputs": [
    {
     "data": {
      "text/plain": [
       "<All keys matched successfully>"
      ]
     },
     "execution_count": 22,
     "metadata": {},
     "output_type": "execute_result"
    }
   ],
   "source": [
    "net.load_state_dict(torch.load('checkpoint'))"
   ]
  }
 ],
 "metadata": {
  "kernelspec": {
   "display_name": "Python 3 (ipykernel)",
   "language": "python",
   "name": "python3"
  },
  "language_info": {
   "codemirror_mode": {
    "name": "ipython",
    "version": 3
   },
   "file_extension": ".py",
   "mimetype": "text/x-python",
   "name": "python",
   "nbconvert_exporter": "python",
   "pygments_lexer": "ipython3",
   "version": "3.11.6"
  }
 },
 "nbformat": 4,
 "nbformat_minor": 5
}
