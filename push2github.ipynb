{
 "cells": [
  {
   "cell_type": "markdown",
   "id": "fb0bd3f1-fbe1-4569-9bdd-13106c9f47a4",
   "metadata": {
    "editable": true,
    "slideshow": {
     "slide_type": ""
    },
    "tags": []
   },
   "source": [
    "## 0， pip list "
   ]
  },
  {
   "cell_type": "code",
   "execution_count": 26,
   "id": "4352ecad-3a46-46d4-9618-821f079db1f9",
   "metadata": {
    "editable": true,
    "slideshow": {
     "slide_type": ""
    },
    "tags": []
   },
   "outputs": [],
   "source": [
    "#!pip install numpy -i  https://pypi.tuna.tsinghua.edu.cn/simple    \n",
    "#!pip install pandas -i  https://pypi.tuna.tsinghua.edu.cn/simple    \n",
    "#!pip install torch -i  https://pypi.tuna.tsinghua.edu.cn/simple     \n",
    "#!pip install accelerate -i  https://pypi.tuna.tsinghua.edu.cn/simple   \n",
    "#!pip install matplotlib -i  https://pypi.tuna.tsinghua.edu.cn/simple  \n",
    "#!pip install torchvision  -i  https://pypi.tuna.tsinghua.edu.cn/simple  \n",
    "#!pip install omegaconf  -i  https://pypi.tuna.tsinghua.edu.cn/simple   \n",
    "#!pip install einops  -i  https://pypi.tuna.tsinghua.edu.cn/simple   \n",
    "#!pip install scikit-learn -i  https://pypi.tuna.tsinghua.edu.cn/simple  \n",
    "#!pip install ipywidgets -i  https://pypi.tuna.tsinghua.edu.cn/simple  \n",
    "#!pip install pyarrow -i  https://pypi.tuna.tsinghua.edu.cn/simple  \n",
    "#!pip install seaborn -i  https://pypi.tuna.tsinghua.edu.cn/simple  \n",
    "#!pip install lightgbm -i  https://pypi.tuna.tsinghua.edu.cn/simple  "
   ]
  },
  {
   "cell_type": "markdown",
   "id": "5d828e3d",
   "metadata": {},
   "source": [
    "## 1, Upload to  Pypi"
   ]
  },
  {
   "cell_type": "code",
   "execution_count": null,
   "id": "60b279bc",
   "metadata": {},
   "outputs": [],
   "source": [
    "%run setup.py sdist bdist_wheel"
   ]
  },
  {
   "cell_type": "code",
   "execution_count": null,
   "id": "e30d81ab-80c2-4851-8ffb-424a72c5526d",
   "metadata": {},
   "outputs": [],
   "source": [
    "!pip install torchkeras "
   ]
  },
  {
   "cell_type": "code",
   "execution_count": null,
   "id": "30676d3d",
   "metadata": {},
   "outputs": [],
   "source": [
    "#!pip install --user --upgrade twine\n"
   ]
  },
  {
   "cell_type": "code",
   "execution_count": null,
   "id": "8becab65",
   "metadata": {},
   "outputs": [],
   "source": [
    "# upload the repository to pypi (test)\n",
    "#!python3 -m twine upload --repository-url https://test.pypi.org/legacy/ dist/*\n",
    "#!python3 -m twine upload  dist/*"
   ]
  },
  {
   "cell_type": "code",
   "execution_count": null,
   "id": "e918e7d1",
   "metadata": {},
   "outputs": [],
   "source": [
    "# install the repository from pypi (test)\n",
    "#!python3 -m pip install --index-url https://test.pypi.org/simple/ --no-deps torchkeras"
   ]
  },
  {
   "cell_type": "markdown",
   "id": "639a6307",
   "metadata": {},
   "source": [
    "## 2，Upload to github"
   ]
  },
  {
   "cell_type": "code",
   "execution_count": null,
   "id": "7a76c373",
   "metadata": {},
   "outputs": [],
   "source": [
    "!git config --global user.name \"lyhue1991\"\n",
    "!git config --global user.email \"lyhue1991@163.com\"\n",
    "\n"
   ]
  },
  {
   "cell_type": "code",
   "execution_count": null,
   "id": "6b8fef4f-3713-4b0a-b92b-c5e9c37b2893",
   "metadata": {},
   "outputs": [],
   "source": [
    "#!git reset 9b060d7db1653627bc725f7b65283cb4d6ae799d"
   ]
  },
  {
   "cell_type": "code",
   "execution_count": null,
   "id": "7a23b162",
   "metadata": {},
   "outputs": [],
   "source": [
    "!git add -A "
   ]
  },
  {
   "cell_type": "code",
   "execution_count": null,
   "id": "cdb41033",
   "metadata": {},
   "outputs": [],
   "source": [
    "!git commit -m\"update 4.0.0\""
   ]
  },
  {
   "cell_type": "code",
   "execution_count": null,
   "id": "f4588e72-d794-4365-8438-ecfa0890d6ed",
   "metadata": {},
   "outputs": [],
   "source": [
    "#!git reset 90172d62e12c2 "
   ]
  },
  {
   "cell_type": "code",
   "execution_count": null,
   "id": "bcaaf06d",
   "metadata": {},
   "outputs": [],
   "source": [
    "!git pull origin master "
   ]
  },
  {
   "cell_type": "code",
   "execution_count": null,
   "id": "a543fbf2",
   "metadata": {},
   "outputs": [],
   "source": [
    "#!git remote remove origin "
   ]
  },
  {
   "cell_type": "code",
   "execution_count": null,
   "id": "f5d0f1de",
   "metadata": {},
   "outputs": [],
   "source": [
    "#!git remote add origin git@github.com:lyhue1991/torchkeras.git"
   ]
  },
  {
   "cell_type": "code",
   "execution_count": null,
   "id": "12e49933",
   "metadata": {},
   "outputs": [],
   "source": [
    "!git push  origin master "
   ]
  },
  {
   "cell_type": "code",
   "execution_count": null,
   "id": "de4d9b10",
   "metadata": {},
   "outputs": [],
   "source": [
    "#!git remote add gitee git@gitee.com:Python_Ai_Road/torchkeras.git\n"
   ]
  },
  {
   "cell_type": "code",
   "execution_count": null,
   "id": "1e3cab48-5eff-4557-9cf0-5deb42441e91",
   "metadata": {},
   "outputs": [],
   "source": [
    "!git push  gitee master "
   ]
  },
  {
   "cell_type": "code",
   "execution_count": null,
   "id": "71c46aa4-7897-4641-9bae-44c76e8d22d9",
   "metadata": {},
   "outputs": [],
   "source": []
  },
  {
   "cell_type": "code",
   "execution_count": null,
   "id": "32acb452-68b3-4182-b74d-89c0aebfca8e",
   "metadata": {},
   "outputs": [],
   "source": []
  },
  {
   "cell_type": "markdown",
   "id": "c6115644",
   "metadata": {},
   "source": [
    "## 3， gitignore"
   ]
  },
  {
   "cell_type": "code",
   "execution_count": 23,
   "id": "644f0c51",
   "metadata": {},
   "outputs": [
    {
     "name": "stdout",
     "output_type": "stream",
     "text": [
      "Overwriting .gitignore\n"
     ]
    }
   ],
   "source": [
    "%%writefile .gitignore\n",
    "*/catboost_info \n",
    "*/catboost_cached_datasets \n",
    "*/catboost_model \n",
    ".DS_store\n",
    ".ipynb_checkpoints\n",
    ".ipynb_checkpoints/* \n",
    "torchkeras.egg-info/*\n",
    "dist/*\n",
    "build/*\n",
    "*.ipynb_checkpoints\n",
    "torchkeras/__pycache__/\n",
    "torchkeras/models/__pycache__/\n",
    "examples/datasets/\n",
    "__pycache__\n",
    "examples/*.pt\n",
    "examples/*.png\n",
    "examples/*.md \n",
    "examples/*.parquet\n",
    "examples/wandb/\n",
    "torchkeras/ocr/__pycache__/\n",
    "*/__pycache__\n",
    "*.pyc\n",
    "torchkeras/chat/__pycache__/\n",
    "torchkeras/tools/__pycache__/\n",
    "examples/*.zip \n",
    "examples/*.pt\n",
    "examples/checkpoint\n",
    "examples/*.parquet \n",
    "examples/*.png\n",
    "examples/.ipynb_checkpoints\n",
    "examples/__pycache__/\n",
    "torchkeras/chat/__pycache__/\n",
    ".idea\n",
    "mnist\n",
    "output_dir\n",
    "wandb\n",
    "*.pt\n",
    "debug.ipynb\n",
    "cats\n",
    "ImageCleaner\n",
    "runs \n",
    "checkpoint\n",
    "*.jpg\n",
    "*.png"
   ]
  }
 ],
 "metadata": {
  "jupytext": {
   "cell_metadata_filter": "-all",
   "main_language": "python",
   "notebook_metadata_filter": "-all"
  },
  "kernelspec": {
   "display_name": "Python 3 (ipykernel)",
   "language": "python",
   "name": "python3"
  },
  "language_info": {
   "codemirror_mode": {
    "name": "ipython",
    "version": 3
   },
   "file_extension": ".py",
   "mimetype": "text/x-python",
   "name": "python",
   "nbconvert_exporter": "python",
   "pygments_lexer": "ipython3",
   "version": "3.10.14"
  }
 },
 "nbformat": 4,
 "nbformat_minor": 5
}
